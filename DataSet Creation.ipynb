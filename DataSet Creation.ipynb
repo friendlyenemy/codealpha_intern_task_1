{
 "cells": [
  {
   "cell_type": "code",
   "execution_count": 1,
   "metadata": {},
   "outputs": [],
   "source": [
    "import pandas as pd\n",
    "import numpy as np\n",
    "from datetime import datetime, timedelta\n",
    "import random"
   ]
  },
  {
   "cell_type": "code",
   "execution_count": 2,
   "metadata": {},
   "outputs": [],
   "source": [
    "# Set random seed for reproducibility\n",
    "np.random.seed(42)"
   ]
  },
  {
   "cell_type": "code",
   "execution_count": 3,
   "metadata": {},
   "outputs": [],
   "source": [
    "# Parameters for dataset generation\n",
    "num_users = 1000  # Number of unique users\n",
    "num_songs = 500   # Number of unique songs\n",
    "num_records = 10000  # Total number of user-song interaction records"
   ]
  },
  {
   "cell_type": "code",
   "execution_count": 4,
   "metadata": {},
   "outputs": [],
   "source": [
    "# Generate random user IDs and song IDs\n",
    "user_ids = np.random.randint(1, num_users+1, num_records)\n",
    "song_ids = np.random.randint(1, num_songs+1, num_records)"
   ]
  },
  {
   "cell_type": "code",
   "execution_count": 5,
   "metadata": {},
   "outputs": [],
   "source": [
    "# Generate random play counts (1 to 10)\n",
    "play_counts = np.random.randint(1, 11, num_records)"
   ]
  },
  {
   "cell_type": "code",
   "execution_count": 6,
   "metadata": {},
   "outputs": [],
   "source": [
    "# Generate random timestamps for when the song was last played\n",
    "# Let's assume the current date is October 10, 2023\n",
    "current_date = datetime(2023, 10, 10)"
   ]
  },
  {
   "cell_type": "code",
   "execution_count": 7,
   "metadata": {},
   "outputs": [],
   "source": [
    "\n",
    "# Random last play time within the last 60 days\n",
    "last_play_times = [current_date - timedelta(days=random.randint(1, 60)) for _ in range(num_records)]\n"
   ]
  },
  {
   "cell_type": "code",
   "execution_count": 8,
   "metadata": {},
   "outputs": [],
   "source": [
    "# Generate random song features (tempo, energy)\n",
    "tempos = np.random.randint(60, 180, num_records)  # Tempo ranges from 60 to 180 BPM\n",
    "energies = np.random.uniform(0.1, 1.0, num_records)  # Energy ranges from 0.1 to 1.0"
   ]
  },
  {
   "cell_type": "code",
   "execution_count": 9,
   "metadata": {},
   "outputs": [],
   "source": [
    "# Generate replay labels (1 for replay within a month, 0 otherwise)\n",
    "# We'll assume songs with higher play counts and recent playtimes are more likely to be replayed\n",
    "labels = [\n",
    "    1 if play_counts[i] > 3 and (current_date - last_play_times[i]).days < 30 else 0\n",
    "    for i in range(num_records)\n",
    "]"
   ]
  },
  {
   "cell_type": "code",
   "execution_count": 10,
   "metadata": {},
   "outputs": [],
   "source": [
    "# Create a DataFrame to hold the generated dataset\n",
    "df = pd.DataFrame({\n",
    "    'user_id': user_ids,\n",
    "    'song_id': song_ids,\n",
    "    'play_count': play_counts,\n",
    "    'last_play_time': last_play_times,\n",
    "    'tempo': tempos,\n",
    "    'energy': energies,\n",
    "    'label': labels\n",
    "})"
   ]
  },
  {
   "cell_type": "code",
   "execution_count": 12,
   "metadata": {},
   "outputs": [
    {
     "data": {
      "text/html": [
       "<div>\n",
       "<style scoped>\n",
       "    .dataframe tbody tr th:only-of-type {\n",
       "        vertical-align: middle;\n",
       "    }\n",
       "\n",
       "    .dataframe tbody tr th {\n",
       "        vertical-align: top;\n",
       "    }\n",
       "\n",
       "    .dataframe thead th {\n",
       "        text-align: right;\n",
       "    }\n",
       "</style>\n",
       "<table border=\"1\" class=\"dataframe\">\n",
       "  <thead>\n",
       "    <tr style=\"text-align: right;\">\n",
       "      <th></th>\n",
       "      <th>user_id</th>\n",
       "      <th>song_id</th>\n",
       "      <th>play_count</th>\n",
       "      <th>last_play_time</th>\n",
       "      <th>tempo</th>\n",
       "      <th>energy</th>\n",
       "      <th>label</th>\n",
       "    </tr>\n",
       "  </thead>\n",
       "  <tbody>\n",
       "    <tr>\n",
       "      <th>0</th>\n",
       "      <td>103</td>\n",
       "      <td>442</td>\n",
       "      <td>4</td>\n",
       "      <td>2023-09-11</td>\n",
       "      <td>136</td>\n",
       "      <td>0.529093</td>\n",
       "      <td>1</td>\n",
       "    </tr>\n",
       "    <tr>\n",
       "      <th>1</th>\n",
       "      <td>436</td>\n",
       "      <td>279</td>\n",
       "      <td>5</td>\n",
       "      <td>2023-08-31</td>\n",
       "      <td>159</td>\n",
       "      <td>0.805545</td>\n",
       "      <td>0</td>\n",
       "    </tr>\n",
       "    <tr>\n",
       "      <th>2</th>\n",
       "      <td>861</td>\n",
       "      <td>251</td>\n",
       "      <td>5</td>\n",
       "      <td>2023-09-29</td>\n",
       "      <td>168</td>\n",
       "      <td>0.937152</td>\n",
       "      <td>1</td>\n",
       "    </tr>\n",
       "    <tr>\n",
       "      <th>3</th>\n",
       "      <td>271</td>\n",
       "      <td>310</td>\n",
       "      <td>8</td>\n",
       "      <td>2023-09-25</td>\n",
       "      <td>127</td>\n",
       "      <td>0.759065</td>\n",
       "      <td>1</td>\n",
       "    </tr>\n",
       "    <tr>\n",
       "      <th>4</th>\n",
       "      <td>107</td>\n",
       "      <td>208</td>\n",
       "      <td>3</td>\n",
       "      <td>2023-09-11</td>\n",
       "      <td>94</td>\n",
       "      <td>0.798485</td>\n",
       "      <td>0</td>\n",
       "    </tr>\n",
       "  </tbody>\n",
       "</table>\n",
       "</div>"
      ],
      "text/plain": [
       "   user_id  song_id  play_count last_play_time  tempo    energy  label\n",
       "0      103      442           4     2023-09-11    136  0.529093      1\n",
       "1      436      279           5     2023-08-31    159  0.805545      0\n",
       "2      861      251           5     2023-09-29    168  0.937152      1\n",
       "3      271      310           8     2023-09-25    127  0.759065      1\n",
       "4      107      208           3     2023-09-11     94  0.798485      0"
      ]
     },
     "execution_count": 12,
     "metadata": {},
     "output_type": "execute_result"
    }
   ],
   "source": [
    "# Show the first few rows of the dataset\n",
    "df.head()"
   ]
  },
  {
   "cell_type": "code",
   "execution_count": 13,
   "metadata": {},
   "outputs": [],
   "source": [
    "# Optionally, save to a CSV file\n",
    "df.to_csv('synthetic_music_dataset.csv', index=False)"
   ]
  },
  {
   "cell_type": "code",
   "execution_count": null,
   "metadata": {},
   "outputs": [],
   "source": []
  }
 ],
 "metadata": {
  "kernelspec": {
   "display_name": "Python 3",
   "language": "python",
   "name": "python3"
  },
  "language_info": {
   "codemirror_mode": {
    "name": "ipython",
    "version": 3
   },
   "file_extension": ".py",
   "mimetype": "text/x-python",
   "name": "python",
   "nbconvert_exporter": "python",
   "pygments_lexer": "ipython3",
   "version": "3.12.2"
  }
 },
 "nbformat": 4,
 "nbformat_minor": 2
}
